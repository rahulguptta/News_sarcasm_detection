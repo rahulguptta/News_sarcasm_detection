{
 "cells": [
  {
   "cell_type": "markdown",
   "id": "ed3552e4",
   "metadata": {},
   "source": [
    "# Classification of the sarcastic news"
   ]
  },
  {
   "cell_type": "markdown",
   "id": "805ba975",
   "metadata": {},
   "source": [
    "## Introduction"
   ]
  },
  {
   "cell_type": "markdown",
   "id": "8626c0e1",
   "metadata": {},
   "source": [
    "A binary classification model is created to detect the sarcastic news based on the head lines of the news using NLP and Tensorflow. The dataset for this project is taken from Kaggle."
   ]
  },
  {
   "cell_type": "markdown",
   "id": "2eba8928",
   "metadata": {},
   "source": [
    "## Outline"
   ]
  },
  {
   "cell_type": "markdown",
   "id": "6bd73636",
   "metadata": {},
   "source": [
    "1. Overview of the data\n",
    "2. Train and Test split\n",
    "3. Encoding\n",
    "4. Model Building\n",
    "5. Word Embeddings"
   ]
  },
  {
   "cell_type": "markdown",
   "id": "067de4b3",
   "metadata": {},
   "source": [
    "# Overview of the data\n"
   ]
  },
  {
   "cell_type": "code",
   "execution_count": 7,
   "id": "a7c49a83",
   "metadata": {},
   "outputs": [
    {
     "name": "stdout",
     "output_type": "stream",
     "text": [
      "A sample in the data looks like:\n",
      " \n",
      " {'article_link': 'https://www.huffingtonpost.com/entry/versace-black-code_us_5861fbefe4b0de3a08f600d5', 'headline': \"former versace store clerk sues over secret 'black code' for minority shoppers\", 'is_sarcastic': 0}\n",
      "\n",
      "There are total 26709 headlines\n"
     ]
    }
   ],
   "source": [
    "# the dataset\n",
    "import json\n",
    "\n",
    "with open('Sarcasm_Headlines_Dataset.json', 'r') as f:\n",
    "    df = json.load(f)\n",
    "\n",
    "print(f'A sample in the data looks like:\\n \\n {df[0]}')\n",
    "print(f'\\nThere are total {len(df)} headlines')"
   ]
  },
  {
   "cell_type": "code",
   "execution_count": 8,
   "id": "20c0086c",
   "metadata": {},
   "outputs": [],
   "source": [
    "# Separating headlines and lables\n",
    "headline, urls, label = [], [], []\n",
    "\n",
    "for item in df:\n",
    "    headline.append(item['headline'])\n",
    "    urls.append(item['article_link'])\n",
    "    label.append(item['is_sarcastic'])"
   ]
  },
  {
   "cell_type": "markdown",
   "id": "18925d0d",
   "metadata": {},
   "source": [
    "# Train and Test Split"
   ]
  },
  {
   "cell_type": "code",
   "execution_count": 17,
   "id": "76b59d3c",
   "metadata": {},
   "outputs": [],
   "source": [
    "import numpy as np\n",
    "train_size = 20000\n",
    "# training set\n",
    "head_tr = headline[0:train_size]\n",
    "label_tr = np.array(label[0:train_size])\n",
    "# testing set\n",
    "head_te = headline[train_size:]\n",
    "label_te = np.array(label[train_size:])"
   ]
  },
  {
   "cell_type": "markdown",
   "id": "28e60d8e",
   "metadata": {},
   "source": [
    "# Encodation"
   ]
  },
  {
   "cell_type": "code",
   "execution_count": 63,
   "id": "58127d9d",
   "metadata": {},
   "outputs": [],
   "source": [
    "# hyperParameters\n",
    "\n",
    "vsize = 10000 # maximum unique words\n",
    "nwords = 40 # maximum words in one headline\n",
    "embed_dim = 16 # embedded vector dimension\n",
    "trunc = 'post'"
   ]
  },
  {
   "cell_type": "code",
   "execution_count": 64,
   "id": "d7d08310",
   "metadata": {},
   "outputs": [
    {
     "name": "stdout",
     "output_type": "stream",
     "text": [
      "there are total 25636 unique words are present in training set\n"
     ]
    }
   ],
   "source": [
    "from tensorflow.keras.preprocessing.text import Tokenizer\n",
    "\n",
    "# initialization\n",
    "encoder = Tokenizer(num_words=vsize, oov_token='')\n",
    "\n",
    "# encoding \n",
    "encoder.fit_on_texts(head_tr)\n",
    "word_index = encoder.word_index\n",
    "\n",
    "print(f\"there are total {len(word_index)-1} unique words are present in training set\")"
   ]
  },
  {
   "cell_type": "code",
   "execution_count": 65,
   "id": "3fd658de",
   "metadata": {},
   "outputs": [],
   "source": [
    "# sequence creation\n",
    "seq_tr = encoder.texts_to_sequences(head_tr)\n",
    "seq_te = encoder.texts_to_sequences(head_te)\n",
    "\n",
    "# padding\n",
    "from tensorflow.keras.preprocessing.sequence import pad_sequences\n",
    "pad_tr = pad_sequences(seq_tr, maxlen=nwords, truncating=trunc)\n",
    "pad_te = pad_sequences(seq_te, maxlen=nwords, truncating=trunc)"
   ]
  },
  {
   "cell_type": "markdown",
   "id": "17e13ef0",
   "metadata": {},
   "source": [
    "# Model Building"
   ]
  },
  {
   "cell_type": "code",
   "execution_count": 66,
   "id": "94eff0e9",
   "metadata": {},
   "outputs": [
    {
     "name": "stdout",
     "output_type": "stream",
     "text": [
      "Model: \"sequential_4\"\n",
      "_________________________________________________________________\n",
      " Layer (type)                Output Shape              Param #   \n",
      "=================================================================\n",
      " embedding_4 (Embedding)     (None, 40, 16)            160000    \n",
      "                                                                 \n",
      " global_average_pooling1d_9   (None, 16)               0         \n",
      " (GlobalAveragePooling1D)                                        \n",
      "                                                                 \n",
      " dense_4 (Dense)             (None, 1)                 17        \n",
      "                                                                 \n",
      "=================================================================\n",
      "Total params: 160,017\n",
      "Trainable params: 160,017\n",
      "Non-trainable params: 0\n",
      "_________________________________________________________________\n"
     ]
    }
   ],
   "source": [
    "import tensorflow as tf\n",
    "model = tf.keras.Sequential([\n",
    "    tf.keras.layers.Embedding(vsize, embed_dim, input_length = nwords),\n",
    "    tf.keras.layers.GlobalAveragePooling1D(),\n",
    "    tf.keras.layers.Dense(1, activation='sigmoid')\n",
    "])\n",
    "\n",
    "model.summary()\n",
    "\n",
    "model.compile(loss='binary_crossentropy', optimizer='adam', metrics=['accuracy'])"
   ]
  },
  {
   "cell_type": "code",
   "execution_count": 67,
   "id": "576a6280",
   "metadata": {},
   "outputs": [
    {
     "name": "stdout",
     "output_type": "stream",
     "text": [
      "Accuracy at epochs 30: \n",
      "accuracy = 0.9805499911308289 \n",
      "validation_accuracy = 0.8341034650802612\n"
     ]
    }
   ],
   "source": [
    "# Model training\n",
    "\n",
    "model_history = model.fit(pad_tr, label_tr, epochs=30, validation_data=(pad_te, label_te), verbose = 0)\n",
    "print(f\"Accuracy at epochs 30: \\naccuracy = {model_history.history['accuracy'][-1]} \\nvalidation_accuracy = {model_history.history['val_accuracy'][-1]}\")"
   ]
  },
  {
   "cell_type": "code",
   "execution_count": 68,
   "id": "44cedb69",
   "metadata": {},
   "outputs": [
    {
     "data": {
      "image/png": "[encoded data removed]",
      "text/plain": [
       "<Figure size 400x400 with 1 Axes>"
      ]
     },
     "metadata": {},
     "output_type": "display_data"
    }
   ],
   "source": [
    "# accuracy plots\n",
    "plt.rcParams['figure.figsize'] = [4, 4]\n",
    "plt.plot(model_history.history['accuracy'])\n",
    "plt.plot(model_history.history['val_accuracy'])\n",
    "plt.xlabel('Epochs')\n",
    "plt.legend(['accuracy', 'val_accuracy'])\n",
    "plt.show()"
   ]
  },
  {
   "cell_type": "markdown",
   "id": "5ae508c2",
   "metadata": {},
   "source": [
    "## Model Testing"
   ]
  },
  {
   "cell_type": "code",
   "execution_count": 72,
   "id": "fe2df795",
   "metadata": {},
   "outputs": [
    {
     "data": {
      "text/plain": [
       "'un: israeli freeze on palestinian permits after attack may be collective punishment'"
      ]
     },
     "execution_count": 72,
     "metadata": {},
     "output_type": "execute_result"
    }
   ],
   "source": [
    "head_te[68]"
   ]
  },
  {
   "cell_type": "code",
   "execution_count": 73,
   "id": "1937d709",
   "metadata": {},
   "outputs": [],
   "source": [
    "def getSarcasmProb(headline):\n",
    "    seq = encoder.texts_to_sequences([headline])\n",
    "    pad = pad_sequences(seq, maxlen=nwords, truncating=trunc)\n",
    "    result = model.predict(pad, verbose = 0)\n",
    "    print('Sarcasm score between 0 and 1 (closer to 0- non-sarcastic):\\n')\n",
    "    return(result[0][0])"
   ]
  },
  {
   "cell_type": "code",
   "execution_count": 74,
   "id": "62f7e5e0",
   "metadata": {},
   "outputs": [
    {
     "name": "stdout",
     "output_type": "stream",
     "text": [
      "Sarcasm score between 0 and 1 (closer to 0- non-sarcastic):\n",
      "\n"
     ]
    },
    {
     "data": {
      "text/plain": [
       "0.010270123"
      ]
     },
     "execution_count": 74,
     "metadata": {},
     "output_type": "execute_result"
    }
   ],
   "source": [
    "headline = 'un: israeli freeze on palestinian permits after attack may be collective punishment'\n",
    "getSarcasmProb(headline)"
   ]
  },
  {
   "cell_type": "markdown",
   "id": "a7796070",
   "metadata": {},
   "source": [
    "# Word Embeddings"
   ]
  },
  {
   "cell_type": "code",
   "execution_count": 77,
   "id": "0e90dc4e",
   "metadata": {},
   "outputs": [],
   "source": [
    "# model weights\n",
    "\n",
    "reverse_word_index = encoder.index_word\n",
    "embedding_layers = model.layers[0]\n",
    "embedding_weights = embedding_layers.get_weights()[0]\n",
    "\n",
    "# Files for embbeding projector\n",
    "import io\n",
    "vectors = io.open('vectors.tsv', 'w', encoding='utf-8')\n",
    "words = io.open('vectors.tsv', 'w', encoding='utf-8')\n",
    "\n",
    "for i in range(1, vsize):\n",
    "    word = reverse_word_index[i]\n",
    "    word_emb = embedding_weights[i]\n",
    "    words.write(word+\"\\n\")\n",
    "    vectors.write('\\t'.join([str(x) for x in word_emb]) + \"\\n\")\n",
    "vectors.close()\n",
    "words.close()"
   ]
  }
 ],
 "metadata": {
  "kernelspec": {
   "display_name": "Python 3 (ipykernel)",
   "language": "python",
   "name": "python3"
  },
  "language_info": {
   "codemirror_mode": {
    "name": "ipython",
    "version": 3
   },
   "file_extension": ".py",
   "mimetype": "text/x-python",
   "name": "python",
   "nbconvert_exporter": "python",
   "pygments_lexer": "ipython3",
   "version": "3.8.10"
  }
 },
 "nbformat": 4,
 "nbformat_minor": 5
}
