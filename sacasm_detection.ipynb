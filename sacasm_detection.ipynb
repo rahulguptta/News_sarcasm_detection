{
 "cells": [
  {
   "cell_type": "markdown",
   "id": "067de4b3",
   "metadata": {},
   "source": [
    "# Overview of the data\n"
   ]
  },
  {
   "cell_type": "code",
   "execution_count": 1,
   "id": "47e5ad71",
   "metadata": {},
   "outputs": [
    {
     "name": "stdout",
     "output_type": "stream",
     "text": [
      "{'article_link': 'https://www.huffingtonpost.com/entry/versace-black-code_us_5861fbefe4b0de3a08f600d5', 'headline': \"former versace store clerk sues over secret 'black code' for minority shoppers\", 'is_sarcastic': 0}\n"
     ]
    }
   ],
   "source": [
    "# importing the dataset\n",
    "import json\n",
    "\n",
    "with open(\"Sarcasm_Headlines_Dataset.json\", 'r') as f:\n",
    "    datastore = json.load(f)\n",
    "\n",
    "print(datastore[0])"
   ]
  },
  {
   "cell_type": "code",
   "execution_count": 3,
   "id": "20c0086c",
   "metadata": {},
   "outputs": [],
   "source": [
    "# creation of sequences\n",
    "\n",
    "# Initialization\n",
    "sentences = []\n",
    "labels = []\n",
    "urls = []\n",
    "\n",
    "# appending the elements\n",
    "for item in datastore:\n",
    "    sentences.append(item['headline'])\n",
    "    urls.append(item['article_link'])\n",
    "    labels.append(item['is_sarcastic'])"
   ]
  },
  {
   "cell_type": "code",
   "execution_count": 4,
   "id": "9375b780",
   "metadata": {},
   "outputs": [
    {
     "name": "stdout",
     "output_type": "stream",
     "text": [
      "\n",
      "There are total 29657 unique words in the dataset.\n",
      "\n",
      "Shape of padded sequences: (26709, 40)\n"
     ]
    }
   ],
   "source": [
    "# Sequcence creation\n",
    "from tensorflow.keras.preprocessing.text import Tokenizer\n",
    "from tensorflow.keras.preprocessing.sequence import pad_sequences\n",
    "\n",
    "# token initialization\n",
    "tokenizer = Tokenizer(oov_token=\"\")\n",
    "\n",
    "# genrating word dictionary\n",
    "tokenizer.fit_on_texts(sentences)\n",
    "word_index = tokenizer.word_index\n",
    "\n",
    "# sequence generation\n",
    "sequences = tokenizer.texts_to_sequences(sentences)\n",
    "padded = pad_sequences(sequences, padding='post')\n",
    "\n",
    "print(f\"\\nThere are total {len(word_index)} unique words in the dataset.\")\n",
    "print(f\"\\nShape of padded sequences: {padded.shape}\")"
   ]
  },
  {
   "cell_type": "code",
   "execution_count": null,
   "id": "17ac59ea",
   "metadata": {},
   "outputs": [],
   "source": []
  }
 ],
 "metadata": {
  "kernelspec": {
   "display_name": "Python 3 (ipykernel)",
   "language": "python",
   "name": "python3"
  },
  "language_info": {
   "codemirror_mode": {
    "name": "ipython",
    "version": 3
   },
   "file_extension": ".py",
   "mimetype": "text/x-python",
   "name": "python",
   "nbconvert_exporter": "python",
   "pygments_lexer": "ipython3",
   "version": "3.8.10"
  }
 },
 "nbformat": 4,
 "nbformat_minor": 5
}
